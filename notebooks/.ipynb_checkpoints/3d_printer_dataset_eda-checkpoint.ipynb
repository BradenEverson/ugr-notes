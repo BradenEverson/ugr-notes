{
 "cells": [
  {
   "cell_type": "markdown",
   "id": "cff6f1ae-8836-4195-98b5-3c4c8d86fbc1",
   "metadata": {},
   "source": [
    "# Exploratory Data Analysis on the 3D Printer Task Tracing Dataset\n",
    "## UGR 4971 - ML Informed RTOS Schedulers"
   ]
  },
  {
   "cell_type": "code",
   "execution_count": 1,
   "id": "7bea62e8-b628-429c-aa59-e816fc189b73",
   "metadata": {},
   "outputs": [],
   "source": [
    "import pandas as pd\n",
    "import matplotlib.pyplot as plt"
   ]
  },
  {
   "cell_type": "code",
   "execution_count": 2,
   "id": "b04782ea-4a28-452a-9476-722b627749f3",
   "metadata": {},
   "outputs": [],
   "source": [
    "df = pd.read_csv(\"../data/3d_printer_tasks.csv\")"
   ]
  },
  {
   "cell_type": "code",
   "execution_count": 3,
   "id": "ad112927-d856-4dcd-8a36-4feba54e6a81",
   "metadata": {},
   "outputs": [
    {
     "data": {
      "text/html": [
       "<div>\n",
       "<style scoped>\n",
       "    .dataframe tbody tr th:only-of-type {\n",
       "        vertical-align: middle;\n",
       "    }\n",
       "\n",
       "    .dataframe tbody tr th {\n",
       "        vertical-align: top;\n",
       "    }\n",
       "\n",
       "    .dataframe thead th {\n",
       "        text-align: right;\n",
       "    }\n",
       "</style>\n",
       "<table border=\"1\" class=\"dataframe\">\n",
       "  <thead>\n",
       "    <tr style=\"text-align: right;\">\n",
       "      <th></th>\n",
       "      <th>process</th>\n",
       "      <th>timestamp</th>\n",
       "      <th>running_time</th>\n",
       "      <th>idle_time</th>\n",
       "      <th>uart_transmit_calls</th>\n",
       "      <th>uart_receive_calls</th>\n",
       "      <th>i2c_read_calls</th>\n",
       "      <th>i2d_write_calls</th>\n",
       "      <th>spi_transfer_calls</th>\n",
       "      <th>gpio_interrupt_calls</th>\n",
       "      <th>adc_read_calls</th>\n",
       "      <th>sleep_calls</th>\n",
       "      <th>run_ratio</th>\n",
       "    </tr>\n",
       "  </thead>\n",
       "  <tbody>\n",
       "    <tr>\n",
       "      <th>0</th>\n",
       "      <td>0</td>\n",
       "      <td>1002</td>\n",
       "      <td>72</td>\n",
       "      <td>930</td>\n",
       "      <td>4</td>\n",
       "      <td>0</td>\n",
       "      <td>0</td>\n",
       "      <td>0</td>\n",
       "      <td>0</td>\n",
       "      <td>0</td>\n",
       "      <td>5</td>\n",
       "      <td>4</td>\n",
       "      <td>0.077419</td>\n",
       "    </tr>\n",
       "    <tr>\n",
       "      <th>1</th>\n",
       "      <td>1</td>\n",
       "      <td>1002</td>\n",
       "      <td>0</td>\n",
       "      <td>1002</td>\n",
       "      <td>0</td>\n",
       "      <td>5</td>\n",
       "      <td>4</td>\n",
       "      <td>0</td>\n",
       "      <td>0</td>\n",
       "      <td>72</td>\n",
       "      <td>0</td>\n",
       "      <td>4</td>\n",
       "      <td>0.000000</td>\n",
       "    </tr>\n",
       "    <tr>\n",
       "      <th>2</th>\n",
       "      <td>2</td>\n",
       "      <td>1002</td>\n",
       "      <td>931</td>\n",
       "      <td>71</td>\n",
       "      <td>105</td>\n",
       "      <td>105</td>\n",
       "      <td>0</td>\n",
       "      <td>0</td>\n",
       "      <td>0</td>\n",
       "      <td>0</td>\n",
       "      <td>0</td>\n",
       "      <td>105</td>\n",
       "      <td>13.112676</td>\n",
       "    </tr>\n",
       "    <tr>\n",
       "      <th>3</th>\n",
       "      <td>0</td>\n",
       "      <td>1502</td>\n",
       "      <td>28</td>\n",
       "      <td>1474</td>\n",
       "      <td>6</td>\n",
       "      <td>0</td>\n",
       "      <td>0</td>\n",
       "      <td>0</td>\n",
       "      <td>0</td>\n",
       "      <td>0</td>\n",
       "      <td>7</td>\n",
       "      <td>6</td>\n",
       "      <td>0.018996</td>\n",
       "    </tr>\n",
       "    <tr>\n",
       "      <th>4</th>\n",
       "      <td>1</td>\n",
       "      <td>1502</td>\n",
       "      <td>0</td>\n",
       "      <td>1502</td>\n",
       "      <td>0</td>\n",
       "      <td>7</td>\n",
       "      <td>6</td>\n",
       "      <td>0</td>\n",
       "      <td>0</td>\n",
       "      <td>28</td>\n",
       "      <td>0</td>\n",
       "      <td>6</td>\n",
       "      <td>0.000000</td>\n",
       "    </tr>\n",
       "  </tbody>\n",
       "</table>\n",
       "</div>"
      ],
      "text/plain": [
       "   process  timestamp  running_time  idle_time  uart_transmit_calls  \\\n",
       "0        0       1002            72        930                    4   \n",
       "1        1       1002             0       1002                    0   \n",
       "2        2       1002           931         71                  105   \n",
       "3        0       1502            28       1474                    6   \n",
       "4        1       1502             0       1502                    0   \n",
       "\n",
       "   uart_receive_calls  i2c_read_calls  i2d_write_calls  spi_transfer_calls  \\\n",
       "0                   0               0                0                   0   \n",
       "1                   5               4                0                   0   \n",
       "2                 105               0                0                   0   \n",
       "3                   0               0                0                   0   \n",
       "4                   7               6                0                   0   \n",
       "\n",
       "   gpio_interrupt_calls  adc_read_calls  sleep_calls  run_ratio  \n",
       "0                     0               5            4   0.077419  \n",
       "1                    72               0            4   0.000000  \n",
       "2                     0               0          105  13.112676  \n",
       "3                     0               7            6   0.018996  \n",
       "4                    28               0            6   0.000000  "
      ]
     },
     "execution_count": 3,
     "metadata": {},
     "output_type": "execute_result"
    }
   ],
   "source": [
    "df[\"run_ratio\"] = df[\"running_time\"] / df[\"idle_time\"]\n",
    "df.head()"
   ]
  },
  {
   "cell_type": "code",
   "execution_count": 4,
   "id": "4e64d44c-20ff-4c22-8277-9fa05c6e65af",
   "metadata": {},
   "outputs": [
    {
     "data": {
      "text/plain": [
       "Text(0, 0.5, 'Run/Idle time Ratio')"
      ]
     },
     "execution_count": 4,
     "metadata": {},
     "output_type": "execute_result"
    },
    {
     "data": {
      "image/png": "[encoded data removed]",
      "text/plain": [
       "<Figure size 640x480 with 1 Axes>"
      ]
     },
     "metadata": {},
     "output_type": "display_data"
    }
   ],
   "source": [
    "plt.scatter(\"timestamp\", \"run_ratio\", c=\"process\", data=df)\n",
    "plt.xlabel(\"Timestamp\")\n",
    "plt.ylabel(\"Run/Idle time Ratio\")"
   ]
  },
  {
   "cell_type": "code",
   "execution_count": null,
   "id": "9c8896d9-efe3-4d46-9250-a80bccd42b02",
   "metadata": {},
   "outputs": [],
   "source": []
  },
  {
   "cell_type": "code",
   "execution_count": null,
   "id": "6a5a3243-0f4c-41d9-a421-a0bb42834fe9",
   "metadata": {},
   "outputs": [],
   "source": []
  }
 ],
 "metadata": {
  "kernelspec": {
   "display_name": "Python 3 (ipykernel)",
   "language": "python",
   "name": "python3"
  },
  "language_info": {
   "codemirror_mode": {
    "name": "ipython",
    "version": 3
   },
   "file_extension": ".py",
   "mimetype": "text/x-python",
   "name": "python",
   "nbconvert_exporter": "python",
   "pygments_lexer": "ipython3",
   "version": "3.13.7"
  }
 },
 "nbformat": 4,
 "nbformat_minor": 5
}
